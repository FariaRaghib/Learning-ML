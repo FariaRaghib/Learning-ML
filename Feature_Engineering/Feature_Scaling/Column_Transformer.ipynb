{
  "nbformat": 4,
  "nbformat_minor": 0,
  "metadata": {
    "colab": {
      "provenance": []
    },
    "kernelspec": {
      "name": "python3",
      "display_name": "Python 3"
    },
    "language_info": {
      "name": "python"
    }
  },
  "cells": [
    {
      "cell_type": "code",
      "execution_count": 1,
      "metadata": {
        "id": "_naM3IC7mdHl"
      },
      "outputs": [],
      "source": [
        "import numpy as np\n",
        "import pandas as pd\n"
      ]
    },
    {
      "cell_type": "code",
      "source": [
        "from sklearn.impute import SimpleImputer\n",
        "from sklearn.preprocessing import OneHotEncoder\n",
        "from sklearn.preprocessing import OrdinalEncoder"
      ],
      "metadata": {
        "id": "URhb9XopmmfK"
      },
      "execution_count": 2,
      "outputs": []
    },
    {
      "cell_type": "code",
      "source": [
        "df=pd.read_csv('/content/report.csv')"
      ],
      "metadata": {
        "id": "fymMLoQ5m12U"
      },
      "execution_count": 3,
      "outputs": []
    },
    {
      "cell_type": "code",
      "source": [
        "df.sample(5)"
      ],
      "metadata": {
        "colab": {
          "base_uri": "https://localhost:8080/",
          "height": 206
        },
        "id": "XOZAho7GoJg2",
        "outputId": "c5a1048f-0bc0-4555-89ec-3baf215f1b4c"
      },
      "execution_count": 10,
      "outputs": [
        {
          "output_type": "execute_result",
          "data": {
            "text/plain": [
              "    age  gender  fever   cough     city has_covid\n",
              "29   34  Female    NaN  Strong   Gujrat       Yes\n",
              "1    27    Male  100.0    Mild   Lahore       Yes\n",
              "17   40  Female   98.0  Strong   Lahore        No\n",
              "62   56  Female  104.0  Strong  Karachi       Yes\n",
              "55   81  Female  101.0    Mild   Gujrat       Yes"
            ],
            "text/html": [
              "\n",
              "  <div id=\"df-60564831-5f34-4bdf-bb90-95d8089df907\" class=\"colab-df-container\">\n",
              "    <div>\n",
              "<style scoped>\n",
              "    .dataframe tbody tr th:only-of-type {\n",
              "        vertical-align: middle;\n",
              "    }\n",
              "\n",
              "    .dataframe tbody tr th {\n",
              "        vertical-align: top;\n",
              "    }\n",
              "\n",
              "    .dataframe thead th {\n",
              "        text-align: right;\n",
              "    }\n",
              "</style>\n",
              "<table border=\"1\" class=\"dataframe\">\n",
              "  <thead>\n",
              "    <tr style=\"text-align: right;\">\n",
              "      <th></th>\n",
              "      <th>age</th>\n",
              "      <th>gender</th>\n",
              "      <th>fever</th>\n",
              "      <th>cough</th>\n",
              "      <th>city</th>\n",
              "      <th>has_covid</th>\n",
              "    </tr>\n",
              "  </thead>\n",
              "  <tbody>\n",
              "    <tr>\n",
              "      <th>29</th>\n",
              "      <td>34</td>\n",
              "      <td>Female</td>\n",
              "      <td>NaN</td>\n",
              "      <td>Strong</td>\n",
              "      <td>Gujrat</td>\n",
              "      <td>Yes</td>\n",
              "    </tr>\n",
              "    <tr>\n",
              "      <th>1</th>\n",
              "      <td>27</td>\n",
              "      <td>Male</td>\n",
              "      <td>100.0</td>\n",
              "      <td>Mild</td>\n",
              "      <td>Lahore</td>\n",
              "      <td>Yes</td>\n",
              "    </tr>\n",
              "    <tr>\n",
              "      <th>17</th>\n",
              "      <td>40</td>\n",
              "      <td>Female</td>\n",
              "      <td>98.0</td>\n",
              "      <td>Strong</td>\n",
              "      <td>Lahore</td>\n",
              "      <td>No</td>\n",
              "    </tr>\n",
              "    <tr>\n",
              "      <th>62</th>\n",
              "      <td>56</td>\n",
              "      <td>Female</td>\n",
              "      <td>104.0</td>\n",
              "      <td>Strong</td>\n",
              "      <td>Karachi</td>\n",
              "      <td>Yes</td>\n",
              "    </tr>\n",
              "    <tr>\n",
              "      <th>55</th>\n",
              "      <td>81</td>\n",
              "      <td>Female</td>\n",
              "      <td>101.0</td>\n",
              "      <td>Mild</td>\n",
              "      <td>Gujrat</td>\n",
              "      <td>Yes</td>\n",
              "    </tr>\n",
              "  </tbody>\n",
              "</table>\n",
              "</div>\n",
              "    <div class=\"colab-df-buttons\">\n",
              "\n",
              "  <div class=\"colab-df-container\">\n",
              "    <button class=\"colab-df-convert\" onclick=\"convertToInteractive('df-60564831-5f34-4bdf-bb90-95d8089df907')\"\n",
              "            title=\"Convert this dataframe to an interactive table.\"\n",
              "            style=\"display:none;\">\n",
              "\n",
              "  <svg xmlns=\"http://www.w3.org/2000/svg\" height=\"24px\" viewBox=\"0 -960 960 960\">\n",
              "    <path d=\"M120-120v-720h720v720H120Zm60-500h600v-160H180v160Zm220 220h160v-160H400v160Zm0 220h160v-160H400v160ZM180-400h160v-160H180v160Zm440 0h160v-160H620v160ZM180-180h160v-160H180v160Zm440 0h160v-160H620v160Z\"/>\n",
              "  </svg>\n",
              "    </button>\n",
              "\n",
              "  <style>\n",
              "    .colab-df-container {\n",
              "      display:flex;\n",
              "      gap: 12px;\n",
              "    }\n",
              "\n",
              "    .colab-df-convert {\n",
              "      background-color: #E8F0FE;\n",
              "      border: none;\n",
              "      border-radius: 50%;\n",
              "      cursor: pointer;\n",
              "      display: none;\n",
              "      fill: #1967D2;\n",
              "      height: 32px;\n",
              "      padding: 0 0 0 0;\n",
              "      width: 32px;\n",
              "    }\n",
              "\n",
              "    .colab-df-convert:hover {\n",
              "      background-color: #E2EBFA;\n",
              "      box-shadow: 0px 1px 2px rgba(60, 64, 67, 0.3), 0px 1px 3px 1px rgba(60, 64, 67, 0.15);\n",
              "      fill: #174EA6;\n",
              "    }\n",
              "\n",
              "    .colab-df-buttons div {\n",
              "      margin-bottom: 4px;\n",
              "    }\n",
              "\n",
              "    [theme=dark] .colab-df-convert {\n",
              "      background-color: #3B4455;\n",
              "      fill: #D2E3FC;\n",
              "    }\n",
              "\n",
              "    [theme=dark] .colab-df-convert:hover {\n",
              "      background-color: #434B5C;\n",
              "      box-shadow: 0px 1px 3px 1px rgba(0, 0, 0, 0.15);\n",
              "      filter: drop-shadow(0px 1px 2px rgba(0, 0, 0, 0.3));\n",
              "      fill: #FFFFFF;\n",
              "    }\n",
              "  </style>\n",
              "\n",
              "    <script>\n",
              "      const buttonEl =\n",
              "        document.querySelector('#df-60564831-5f34-4bdf-bb90-95d8089df907 button.colab-df-convert');\n",
              "      buttonEl.style.display =\n",
              "        google.colab.kernel.accessAllowed ? 'block' : 'none';\n",
              "\n",
              "      async function convertToInteractive(key) {\n",
              "        const element = document.querySelector('#df-60564831-5f34-4bdf-bb90-95d8089df907');\n",
              "        const dataTable =\n",
              "          await google.colab.kernel.invokeFunction('convertToInteractive',\n",
              "                                                    [key], {});\n",
              "        if (!dataTable) return;\n",
              "\n",
              "        const docLinkHtml = 'Like what you see? Visit the ' +\n",
              "          '<a target=\"_blank\" href=https://colab.research.google.com/notebooks/data_table.ipynb>data table notebook</a>'\n",
              "          + ' to learn more about interactive tables.';\n",
              "        element.innerHTML = '';\n",
              "        dataTable['output_type'] = 'display_data';\n",
              "        await google.colab.output.renderOutput(dataTable, element);\n",
              "        const docLink = document.createElement('div');\n",
              "        docLink.innerHTML = docLinkHtml;\n",
              "        element.appendChild(docLink);\n",
              "      }\n",
              "    </script>\n",
              "  </div>\n",
              "\n",
              "\n",
              "<div id=\"df-37e6aa2b-2f09-4fb0-b6e8-f4be5526b1cf\">\n",
              "  <button class=\"colab-df-quickchart\" onclick=\"quickchart('df-37e6aa2b-2f09-4fb0-b6e8-f4be5526b1cf')\"\n",
              "            title=\"Suggest charts\"\n",
              "            style=\"display:none;\">\n",
              "\n",
              "<svg xmlns=\"http://www.w3.org/2000/svg\" height=\"24px\"viewBox=\"0 0 24 24\"\n",
              "     width=\"24px\">\n",
              "    <g>\n",
              "        <path d=\"M19 3H5c-1.1 0-2 .9-2 2v14c0 1.1.9 2 2 2h14c1.1 0 2-.9 2-2V5c0-1.1-.9-2-2-2zM9 17H7v-7h2v7zm4 0h-2V7h2v10zm4 0h-2v-4h2v4z\"/>\n",
              "    </g>\n",
              "</svg>\n",
              "  </button>\n",
              "\n",
              "<style>\n",
              "  .colab-df-quickchart {\n",
              "      --bg-color: #E8F0FE;\n",
              "      --fill-color: #1967D2;\n",
              "      --hover-bg-color: #E2EBFA;\n",
              "      --hover-fill-color: #174EA6;\n",
              "      --disabled-fill-color: #AAA;\n",
              "      --disabled-bg-color: #DDD;\n",
              "  }\n",
              "\n",
              "  [theme=dark] .colab-df-quickchart {\n",
              "      --bg-color: #3B4455;\n",
              "      --fill-color: #D2E3FC;\n",
              "      --hover-bg-color: #434B5C;\n",
              "      --hover-fill-color: #FFFFFF;\n",
              "      --disabled-bg-color: #3B4455;\n",
              "      --disabled-fill-color: #666;\n",
              "  }\n",
              "\n",
              "  .colab-df-quickchart {\n",
              "    background-color: var(--bg-color);\n",
              "    border: none;\n",
              "    border-radius: 50%;\n",
              "    cursor: pointer;\n",
              "    display: none;\n",
              "    fill: var(--fill-color);\n",
              "    height: 32px;\n",
              "    padding: 0;\n",
              "    width: 32px;\n",
              "  }\n",
              "\n",
              "  .colab-df-quickchart:hover {\n",
              "    background-color: var(--hover-bg-color);\n",
              "    box-shadow: 0 1px 2px rgba(60, 64, 67, 0.3), 0 1px 3px 1px rgba(60, 64, 67, 0.15);\n",
              "    fill: var(--button-hover-fill-color);\n",
              "  }\n",
              "\n",
              "  .colab-df-quickchart-complete:disabled,\n",
              "  .colab-df-quickchart-complete:disabled:hover {\n",
              "    background-color: var(--disabled-bg-color);\n",
              "    fill: var(--disabled-fill-color);\n",
              "    box-shadow: none;\n",
              "  }\n",
              "\n",
              "  .colab-df-spinner {\n",
              "    border: 2px solid var(--fill-color);\n",
              "    border-color: transparent;\n",
              "    border-bottom-color: var(--fill-color);\n",
              "    animation:\n",
              "      spin 1s steps(1) infinite;\n",
              "  }\n",
              "\n",
              "  @keyframes spin {\n",
              "    0% {\n",
              "      border-color: transparent;\n",
              "      border-bottom-color: var(--fill-color);\n",
              "      border-left-color: var(--fill-color);\n",
              "    }\n",
              "    20% {\n",
              "      border-color: transparent;\n",
              "      border-left-color: var(--fill-color);\n",
              "      border-top-color: var(--fill-color);\n",
              "    }\n",
              "    30% {\n",
              "      border-color: transparent;\n",
              "      border-left-color: var(--fill-color);\n",
              "      border-top-color: var(--fill-color);\n",
              "      border-right-color: var(--fill-color);\n",
              "    }\n",
              "    40% {\n",
              "      border-color: transparent;\n",
              "      border-right-color: var(--fill-color);\n",
              "      border-top-color: var(--fill-color);\n",
              "    }\n",
              "    60% {\n",
              "      border-color: transparent;\n",
              "      border-right-color: var(--fill-color);\n",
              "    }\n",
              "    80% {\n",
              "      border-color: transparent;\n",
              "      border-right-color: var(--fill-color);\n",
              "      border-bottom-color: var(--fill-color);\n",
              "    }\n",
              "    90% {\n",
              "      border-color: transparent;\n",
              "      border-bottom-color: var(--fill-color);\n",
              "    }\n",
              "  }\n",
              "</style>\n",
              "\n",
              "  <script>\n",
              "    async function quickchart(key) {\n",
              "      const quickchartButtonEl =\n",
              "        document.querySelector('#' + key + ' button');\n",
              "      quickchartButtonEl.disabled = true;  // To prevent multiple clicks.\n",
              "      quickchartButtonEl.classList.add('colab-df-spinner');\n",
              "      try {\n",
              "        const charts = await google.colab.kernel.invokeFunction(\n",
              "            'suggestCharts', [key], {});\n",
              "      } catch (error) {\n",
              "        console.error('Error during call to suggestCharts:', error);\n",
              "      }\n",
              "      quickchartButtonEl.classList.remove('colab-df-spinner');\n",
              "      quickchartButtonEl.classList.add('colab-df-quickchart-complete');\n",
              "    }\n",
              "    (() => {\n",
              "      let quickchartButtonEl =\n",
              "        document.querySelector('#df-37e6aa2b-2f09-4fb0-b6e8-f4be5526b1cf button');\n",
              "      quickchartButtonEl.style.display =\n",
              "        google.colab.kernel.accessAllowed ? 'block' : 'none';\n",
              "    })();\n",
              "  </script>\n",
              "</div>\n",
              "\n",
              "    </div>\n",
              "  </div>\n"
            ],
            "application/vnd.google.colaboratory.intrinsic+json": {
              "type": "dataframe",
              "summary": "{\n  \"name\": \"df\",\n  \"rows\": 5,\n  \"fields\": [\n    {\n      \"column\": \"age\",\n      \"properties\": {\n        \"dtype\": \"number\",\n        \"std\": 21,\n        \"min\": 27,\n        \"max\": 81,\n        \"num_unique_values\": 5,\n        \"samples\": [\n          27,\n          81,\n          40\n        ],\n        \"semantic_type\": \"\",\n        \"description\": \"\"\n      }\n    },\n    {\n      \"column\": \"gender\",\n      \"properties\": {\n        \"dtype\": \"category\",\n        \"num_unique_values\": 2,\n        \"samples\": [\n          \"Male\",\n          \"Female\"\n        ],\n        \"semantic_type\": \"\",\n        \"description\": \"\"\n      }\n    },\n    {\n      \"column\": \"fever\",\n      \"properties\": {\n        \"dtype\": \"number\",\n        \"std\": 2.5,\n        \"min\": 98.0,\n        \"max\": 104.0,\n        \"num_unique_values\": 4,\n        \"samples\": [\n          98.0,\n          101.0\n        ],\n        \"semantic_type\": \"\",\n        \"description\": \"\"\n      }\n    },\n    {\n      \"column\": \"cough\",\n      \"properties\": {\n        \"dtype\": \"category\",\n        \"num_unique_values\": 2,\n        \"samples\": [\n          \"Mild\",\n          \"Strong\"\n        ],\n        \"semantic_type\": \"\",\n        \"description\": \"\"\n      }\n    },\n    {\n      \"column\": \"city\",\n      \"properties\": {\n        \"dtype\": \"string\",\n        \"num_unique_values\": 3,\n        \"samples\": [\n          \"Gujrat\",\n          \"Lahore\"\n        ],\n        \"semantic_type\": \"\",\n        \"description\": \"\"\n      }\n    },\n    {\n      \"column\": \"has_covid\",\n      \"properties\": {\n        \"dtype\": \"category\",\n        \"num_unique_values\": 2,\n        \"samples\": [\n          \"No\",\n          \"Yes\"\n        ],\n        \"semantic_type\": \"\",\n        \"description\": \"\"\n      }\n    }\n  ]\n}"
            }
          },
          "metadata": {},
          "execution_count": 10
        }
      ]
    },
    {
      "cell_type": "code",
      "source": [
        "from sklearn.model_selection import train_test_split\n",
        "X_train,X_test,y_train,y_test=train_test_split(df.drop(columns=['has_covid']),df['has_covid'],test_size=0.3)"
      ],
      "metadata": {
        "id": "Z5Y8XAF9oLQx"
      },
      "execution_count": 11,
      "outputs": []
    },
    {
      "cell_type": "code",
      "source": [
        "si=SimpleImputer()\n",
        "X_train_fever=si.fit_transform(X_train[['fever']])\n",
        "\n",
        "X_test_fever=si.fit_transform(X_test[['fever']])"
      ],
      "metadata": {
        "id": "EG4Blue0ou9N"
      },
      "execution_count": 12,
      "outputs": []
    },
    {
      "cell_type": "code",
      "source": [
        "oe=OrdinalEncoder(categories=[['Mild','Strong']])\n",
        "X_train_cough=oe.fit_transform(X_train[['cough']])\n",
        "\n",
        "X_test_cough=oe.fit_transform(X_test[['cough']])"
      ],
      "metadata": {
        "id": "Zz077hBGqyrW"
      },
      "execution_count": 14,
      "outputs": []
    },
    {
      "cell_type": "code",
      "source": [
        "ohe=OneHotEncoder(drop='first',sparse_output=False)\n",
        "X_train_gender_city=ohe.fit_transform(X_train[['gender','city']])\n",
        "\n",
        "X_test_gender_city=ohe.fit_transform(X_test[['gender','city']])"
      ],
      "metadata": {
        "id": "Kxm02_Z7rmKc"
      },
      "execution_count": 16,
      "outputs": []
    },
    {
      "cell_type": "code",
      "source": [
        "X_train_age=X_train.drop(columns=['fever','gender','city','cough']).values"
      ],
      "metadata": {
        "id": "bpn_jKyUr5h4"
      },
      "execution_count": 22,
      "outputs": []
    },
    {
      "cell_type": "code",
      "source": [
        "X_test_age=X_test.drop(columns=['fever','gender','city','cough']).values"
      ],
      "metadata": {
        "id": "HckJgnYzsjPe"
      },
      "execution_count": 23,
      "outputs": []
    },
    {
      "cell_type": "code",
      "source": [
        "X_train_transformed=np.concatenate((X_train_age,X_train_fever,X_train_gender_city,X_train_cough),axis=1)\n",
        "X_test_transformed=np.concatenate((X_test_age,X_test_fever,X_test_gender_city,X_test_cough),axis=1)"
      ],
      "metadata": {
        "id": "tUGxBF4YsqzK"
      },
      "execution_count": 24,
      "outputs": []
    },
    {
      "cell_type": "markdown",
      "source": [
        "# **Using Column Transformer**"
      ],
      "metadata": {
        "id": "K0Cxv5CgtH0N"
      }
    },
    {
      "cell_type": "code",
      "source": [
        "from sklearn.compose import ColumnTransformer"
      ],
      "metadata": {
        "id": "VWDLE4TktMks"
      },
      "execution_count": 25,
      "outputs": []
    },
    {
      "cell_type": "code",
      "source": [
        "transformer=ColumnTransformer(transformers=[\n",
        "    ('tnf1',SimpleImputer(),['fever']),\n",
        " ('tnf2',OrdinalEncoder(categories=[['Mild','Strong']]),['cough']),\n",
        "  ('tnf3',OneHotEncoder(sparse_output=False,drop='first'),['gender','city'])],remainder='passthrough')"
      ],
      "metadata": {
        "id": "lG-ZXkRatEFD"
      },
      "execution_count": 32,
      "outputs": []
    },
    {
      "cell_type": "code",
      "source": [
        "transformer.fit_transform(X_train)"
      ],
      "metadata": {
        "colab": {
          "base_uri": "https://localhost:8080/"
        },
        "id": "PresKYehtX3G",
        "outputId": "7fe5ae89-b1e2-4fe2-c2b7-3de419772b97"
      },
      "execution_count": 33,
      "outputs": [
        {
          "output_type": "execute_result",
          "data": {
            "text/plain": [
              "array([[ 99.,   0.,   0.,   0.,   1.,   0.,  22.],\n",
              "       [101.,   1.,   1.,   1.,   0.,   0.,  79.],\n",
              "       [ 98.,   1.,   1.,   0.,   1.,   0.,  12.],\n",
              "       [101.,   1.,   1.,   0.,   1.,   0.,  14.],\n",
              "       [100.,   0.,   0.,   1.,   0.,   0.,   5.],\n",
              "       [101.,   1.,   0.,   1.,   0.,   0.,  51.],\n",
              "       [100.,   0.,   1.,   1.,   0.,   0.,  55.],\n",
              "       [104.,   0.,   1.,   1.,   0.,   0.,  51.],\n",
              "       [101.,   0.,   1.,   0.,   0.,   1.,  42.],\n",
              "       [ 99.,   1.,   1.,   0.,   1.,   0.,  66.],\n",
              "       [103.,   1.,   1.,   1.,   0.,   0.,  70.],\n",
              "       [104.,   0.,   0.,   0.,   1.,   0.,  18.],\n",
              "       [101.,   1.,   1.,   1.,   0.,   0.,  71.],\n",
              "       [ 98.,   1.,   0.,   0.,   0.,   0.,  81.],\n",
              "       [104.,   1.,   0.,   0.,   1.,   0.,  56.],\n",
              "       [ 99.,   1.,   0.,   0.,   0.,   1.,  59.],\n",
              "       [103.,   0.,   1.,   1.,   0.,   0.,  60.],\n",
              "       [ 98.,   0.,   0.,   0.,   0.,   1.,  80.],\n",
              "       [104.,   0.,   1.,   0.,   1.,   0.,  25.],\n",
              "       [ 98.,   0.,   0.,   1.,   0.,   0.,  31.],\n",
              "       [ 98.,   0.,   1.,   0.,   0.,   1.,  83.],\n",
              "       [104.,   0.,   1.,   0.,   0.,   0.,  44.],\n",
              "       [101.,   1.,   0.,   0.,   1.,   0.,  42.],\n",
              "       [ 99.,   0.,   1.,   0.,   1.,   0.,  65.],\n",
              "       [102.,   0.,   1.,   0.,   0.,   0.,  74.],\n",
              "       [100.,   0.,   1.,   0.,   0.,   1.,  27.],\n",
              "       [101.,   0.,   0.,   0.,   1.,   0.,  38.],\n",
              "       [103.,   0.,   0.,   1.,   0.,   0.,  50.],\n",
              "       [104.,   1.,   0.,   1.,   0.,   0.,  54.],\n",
              "       [100.,   1.,   0.,   0.,   1.,   0.,  47.],\n",
              "       [100.,   0.,   1.,   0.,   1.,   0.,  80.],\n",
              "       [104.,   0.,   0.,   1.,   0.,   0.,   6.],\n",
              "       [104.,   0.,   1.,   1.,   0.,   0.,  16.],\n",
              "       [104.,   1.,   0.,   0.,   0.,   1.,  75.],\n",
              "       [103.,   0.,   0.,   1.,   0.,   0.,  48.],\n",
              "       [100.,   1.,   0.,   1.,   0.,   0.,  11.],\n",
              "       [101.,   1.,   0.,   0.,   0.,   1.,  68.],\n",
              "       [102.,   1.,   0.,   0.,   0.,   1.,  33.],\n",
              "       [101.,   0.,   0.,   1.,   0.,   0.,  83.],\n",
              "       [101.,   1.,   0.,   0.,   0.,   0.,  34.],\n",
              "       [101.,   0.,   0.,   0.,   0.,   1.,  64.],\n",
              "       [101.,   0.,   1.,   0.,   0.,   1.,  15.],\n",
              "       [100.,   0.,   1.,   0.,   0.,   1.,  27.],\n",
              "       [101.,   1.,   0.,   0.,   0.,   0.,  20.],\n",
              "       [102.,   0.,   0.,   0.,   0.,   1.,  49.],\n",
              "       [104.,   1.,   0.,   0.,   0.,   1.,  34.],\n",
              "       [100.,   1.,   0.,   0.,   1.,   0.,  19.],\n",
              "       [102.,   0.,   1.,   1.,   0.,   0.,   5.],\n",
              "       [104.,   0.,   1.,   0.,   1.,   0.,  51.],\n",
              "       [101.,   0.,   0.,   0.,   0.,   0.,  81.],\n",
              "       [101.,   1.,   0.,   0.,   0.,   1.,  34.],\n",
              "       [102.,   0.,   1.,   0.,   1.,   0.,  64.],\n",
              "       [ 98.,   0.,   1.,   1.,   0.,   0.,  24.],\n",
              "       [103.,   0.,   1.,   1.,   0.,   0.,  83.],\n",
              "       [ 98.,   1.,   0.,   1.,   0.,   0.,  10.],\n",
              "       [ 99.,   0.,   1.,   0.,   1.,   0.,  72.],\n",
              "       [100.,   0.,   1.,   0.,   1.,   0.,  10.],\n",
              "       [ 98.,   1.,   0.,   0.,   0.,   0.,   5.],\n",
              "       [101.,   0.,   1.,   1.,   0.,   0.,  82.],\n",
              "       [101.,   0.,   0.,   0.,   0.,   1.,  75.],\n",
              "       [102.,   1.,   0.,   1.,   0.,   0.,  82.],\n",
              "       [100.,   0.,   0.,   1.,   0.,   0.,  19.],\n",
              "       [ 98.,   1.,   0.,   1.,   0.,   0.,  71.],\n",
              "       [104.,   0.,   0.,   1.,   0.,   0.,  17.],\n",
              "       [101.,   0.,   0.,   0.,   1.,   0.,  84.],\n",
              "       [ 98.,   0.,   0.,   1.,   0.,   0.,  26.],\n",
              "       [ 99.,   0.,   0.,   0.,   0.,   0.,  60.],\n",
              "       [102.,   1.,   0.,   0.,   1.,   0.,  24.],\n",
              "       [103.,   0.,   0.,   1.,   0.,   0.,  69.],\n",
              "       [ 98.,   0.,   1.,   0.,   1.,   0.,  73.]])"
            ]
          },
          "metadata": {},
          "execution_count": 33
        }
      ]
    },
    {
      "cell_type": "code",
      "source": [
        "transformer.fit_transform(X_train)"
      ],
      "metadata": {
        "colab": {
          "base_uri": "https://localhost:8080/"
        },
        "id": "ysDY2zTnuiEu",
        "outputId": "1d347a7f-9309-4310-b5fc-b0c8b36fcf4e"
      },
      "execution_count": 34,
      "outputs": [
        {
          "output_type": "execute_result",
          "data": {
            "text/plain": [
              "array([[ 99.,   0.,   0.,   0.,   1.,   0.,  22.],\n",
              "       [101.,   1.,   1.,   1.,   0.,   0.,  79.],\n",
              "       [ 98.,   1.,   1.,   0.,   1.,   0.,  12.],\n",
              "       [101.,   1.,   1.,   0.,   1.,   0.,  14.],\n",
              "       [100.,   0.,   0.,   1.,   0.,   0.,   5.],\n",
              "       [101.,   1.,   0.,   1.,   0.,   0.,  51.],\n",
              "       [100.,   0.,   1.,   1.,   0.,   0.,  55.],\n",
              "       [104.,   0.,   1.,   1.,   0.,   0.,  51.],\n",
              "       [101.,   0.,   1.,   0.,   0.,   1.,  42.],\n",
              "       [ 99.,   1.,   1.,   0.,   1.,   0.,  66.],\n",
              "       [103.,   1.,   1.,   1.,   0.,   0.,  70.],\n",
              "       [104.,   0.,   0.,   0.,   1.,   0.,  18.],\n",
              "       [101.,   1.,   1.,   1.,   0.,   0.,  71.],\n",
              "       [ 98.,   1.,   0.,   0.,   0.,   0.,  81.],\n",
              "       [104.,   1.,   0.,   0.,   1.,   0.,  56.],\n",
              "       [ 99.,   1.,   0.,   0.,   0.,   1.,  59.],\n",
              "       [103.,   0.,   1.,   1.,   0.,   0.,  60.],\n",
              "       [ 98.,   0.,   0.,   0.,   0.,   1.,  80.],\n",
              "       [104.,   0.,   1.,   0.,   1.,   0.,  25.],\n",
              "       [ 98.,   0.,   0.,   1.,   0.,   0.,  31.],\n",
              "       [ 98.,   0.,   1.,   0.,   0.,   1.,  83.],\n",
              "       [104.,   0.,   1.,   0.,   0.,   0.,  44.],\n",
              "       [101.,   1.,   0.,   0.,   1.,   0.,  42.],\n",
              "       [ 99.,   0.,   1.,   0.,   1.,   0.,  65.],\n",
              "       [102.,   0.,   1.,   0.,   0.,   0.,  74.],\n",
              "       [100.,   0.,   1.,   0.,   0.,   1.,  27.],\n",
              "       [101.,   0.,   0.,   0.,   1.,   0.,  38.],\n",
              "       [103.,   0.,   0.,   1.,   0.,   0.,  50.],\n",
              "       [104.,   1.,   0.,   1.,   0.,   0.,  54.],\n",
              "       [100.,   1.,   0.,   0.,   1.,   0.,  47.],\n",
              "       [100.,   0.,   1.,   0.,   1.,   0.,  80.],\n",
              "       [104.,   0.,   0.,   1.,   0.,   0.,   6.],\n",
              "       [104.,   0.,   1.,   1.,   0.,   0.,  16.],\n",
              "       [104.,   1.,   0.,   0.,   0.,   1.,  75.],\n",
              "       [103.,   0.,   0.,   1.,   0.,   0.,  48.],\n",
              "       [100.,   1.,   0.,   1.,   0.,   0.,  11.],\n",
              "       [101.,   1.,   0.,   0.,   0.,   1.,  68.],\n",
              "       [102.,   1.,   0.,   0.,   0.,   1.,  33.],\n",
              "       [101.,   0.,   0.,   1.,   0.,   0.,  83.],\n",
              "       [101.,   1.,   0.,   0.,   0.,   0.,  34.],\n",
              "       [101.,   0.,   0.,   0.,   0.,   1.,  64.],\n",
              "       [101.,   0.,   1.,   0.,   0.,   1.,  15.],\n",
              "       [100.,   0.,   1.,   0.,   0.,   1.,  27.],\n",
              "       [101.,   1.,   0.,   0.,   0.,   0.,  20.],\n",
              "       [102.,   0.,   0.,   0.,   0.,   1.,  49.],\n",
              "       [104.,   1.,   0.,   0.,   0.,   1.,  34.],\n",
              "       [100.,   1.,   0.,   0.,   1.,   0.,  19.],\n",
              "       [102.,   0.,   1.,   1.,   0.,   0.,   5.],\n",
              "       [104.,   0.,   1.,   0.,   1.,   0.,  51.],\n",
              "       [101.,   0.,   0.,   0.,   0.,   0.,  81.],\n",
              "       [101.,   1.,   0.,   0.,   0.,   1.,  34.],\n",
              "       [102.,   0.,   1.,   0.,   1.,   0.,  64.],\n",
              "       [ 98.,   0.,   1.,   1.,   0.,   0.,  24.],\n",
              "       [103.,   0.,   1.,   1.,   0.,   0.,  83.],\n",
              "       [ 98.,   1.,   0.,   1.,   0.,   0.,  10.],\n",
              "       [ 99.,   0.,   1.,   0.,   1.,   0.,  72.],\n",
              "       [100.,   0.,   1.,   0.,   1.,   0.,  10.],\n",
              "       [ 98.,   1.,   0.,   0.,   0.,   0.,   5.],\n",
              "       [101.,   0.,   1.,   1.,   0.,   0.,  82.],\n",
              "       [101.,   0.,   0.,   0.,   0.,   1.,  75.],\n",
              "       [102.,   1.,   0.,   1.,   0.,   0.,  82.],\n",
              "       [100.,   0.,   0.,   1.,   0.,   0.,  19.],\n",
              "       [ 98.,   1.,   0.,   1.,   0.,   0.,  71.],\n",
              "       [104.,   0.,   0.,   1.,   0.,   0.,  17.],\n",
              "       [101.,   0.,   0.,   0.,   1.,   0.,  84.],\n",
              "       [ 98.,   0.,   0.,   1.,   0.,   0.,  26.],\n",
              "       [ 99.,   0.,   0.,   0.,   0.,   0.,  60.],\n",
              "       [102.,   1.,   0.,   0.,   1.,   0.,  24.],\n",
              "       [103.,   0.,   0.,   1.,   0.,   0.,  69.],\n",
              "       [ 98.,   0.,   1.,   0.,   1.,   0.,  73.]])"
            ]
          },
          "metadata": {},
          "execution_count": 34
        }
      ]
    },
    {
      "cell_type": "code",
      "source": [],
      "metadata": {
        "id": "GCAIAZxavDgW"
      },
      "execution_count": null,
      "outputs": []
    }
  ]
}